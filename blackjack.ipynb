{
 "cells": [
  {
   "cell_type": "code",
   "execution_count": 1,
   "metadata": {},
   "outputs": [],
   "source": [
    "from blackjack import BlackjackEnv\n",
    "import random\n",
    "import numpy as np"
   ]
  },
  {
   "cell_type": "code",
   "execution_count": 2,
   "metadata": {},
   "outputs": [],
   "source": [
    "class BlackjackAgent:\n",
    "    \n",
    "    def __init__(self):\n",
    "        pass\n",
    "    \n",
    "    def policy(self, state):\n",
    "        agent_sum, _, _ = state\n",
    "        if agent_sum >= 20:\n",
    "            return 0\n",
    "        else:\n",
    "            return 1"
   ]
  },
  {
   "cell_type": "code",
   "execution_count": 3,
   "metadata": {},
   "outputs": [],
   "source": [
    "env = BlackjackEnv()\n",
    "agent = BlackjackAgent()\n",
    "\n",
    "values = {}\n",
    "counts = {}    "
   ]
  },
  {
   "cell_type": "code",
   "execution_count": 8,
   "metadata": {},
   "outputs": [],
   "source": [
    "for i in range(50000):\n",
    "    \n",
    "    trajectory = []\n",
    "    rewards = []\n",
    "    \n",
    "    state = env.reset()\n",
    "    trajectory.append(state)\n",
    "    \n",
    "    done = False\n",
    "    num_steps = 0\n",
    "    \n",
    "    while not done:\n",
    "        action = agent.policy(state)\n",
    "        state, reward, done, _ = env.step(action)\n",
    "        rewards.append(reward)\n",
    "        trajectory.append(state)\n",
    "        num_steps += 1\n",
    "    \n",
    "    rewards = np.array(rewards)\n",
    "    rewards = rewards * np.logspace(0, num_steps - 1, num_steps, base=0.99)\n",
    "    cumulative_rewards = np.cumsum(rewards[::-1])[::-1]\n",
    "    \n",
    "    visited = set()\n",
    "    for j, cumulative_reward in enumerate(cumulative_rewards):\n",
    "       \n",
    "        if not trajectory[j] in visited:\n",
    "            visited.add(trajectory[j])\n",
    "            values[trajectory[j]] = values.get(trajectory[j], 0) + cumulative_reward\n",
    "            counts[trajectory[j]] = counts.get(trajectory[j], 0) + 1\n",
    "\n",
    "for key in values.keys():\n",
    "    values[key] /= (counts[key])"
   ]
  },
  {
   "cell_type": "markdown",
   "metadata": {},
   "source": [
    "***Value iteration***"
   ]
  },
  {
   "cell_type": "code",
   "execution_count": 73,
   "metadata": {},
   "outputs": [],
   "source": [
    "class ControlAgent:\n",
    "    def __init__(self, eps=1e-2, debug=False):\n",
    "        \n",
    "        self.Q = {}\n",
    "        self.counts = {}\n",
    "        self.eps = eps\n",
    "        self.logs = {}\n",
    "        self.debug = debug\n",
    "\n",
    "        for i in range(32):\n",
    "            for j in range(11):\n",
    "                for k in range(2):\n",
    "                    self.Q[(i, j, k)] = np.random.randn(2)\n",
    "                    self.counts[(i, j, k)] = [1, 1]\n",
    "                    self.logs[(i, j, k)] = [[self.Q[(i, j, k)][0]], [self.Q[(i, j, k)][0]]]\n",
    "    \n",
    "    def policy(self, state, train=False):\n",
    "        \n",
    "        if train:\n",
    "            if np.random.rand() < self.eps:\n",
    "                return np.random.randint(2)\n",
    "            else:\n",
    "                return self.Q[state].argmax()\n",
    "        \n",
    "        else:\n",
    "            self.Q[state].argmax()\n",
    "            \n",
    "    \n",
    "    def update(self, trajectory, actions, rewards):\n",
    "        \n",
    "        assert(len(trajectory) == len(actions) + 1 and len(actions) == len(rewards))\n",
    "        \n",
    "        num_steps = len(actions)\n",
    "        rewards = np.array(rewards)\n",
    "        rewards = rewards * np.logspace(0, num_steps - 1, num_steps, base=0.99)\n",
    "        cumulative_rewards = np.cumsum(rewards[::-1])[::-1]\n",
    "        \n",
    "        visited = set()\n",
    "    \n",
    "        for j, action in enumerate(actions):\n",
    "            \n",
    "            state = trajectory[j]\n",
    "            G = cumulative_rewards[j]\n",
    "            \n",
    "            if not state in visited:\n",
    "                visited.add(state)\n",
    "                n = self.counts[state][action]\n",
    "                self.Q[state][action] = self.Q[state][action] * (n / (n + 1)) + G * (1 / (n + 1))\n",
    "                \n",
    "                if self.debug:\n",
    "                    self.logs[state][action].append(self.Q[state][action])\n",
    "                    \n",
    "                self.counts[state][action] += 1"
   ]
  },
  {
   "cell_type": "code",
   "execution_count": 78,
   "metadata": {},
   "outputs": [],
   "source": [
    "agent = ControlAgent(eps=1e-2)\n",
    "wins = []\n",
    "\n",
    "for i in range(500000):\n",
    "    state = env.reset()\n",
    "    trajectory, actions, rewards = [state], [], []\n",
    "    \n",
    "    done = False\n",
    "    \n",
    "    while not done:\n",
    "        action = agent.policy(state, train=True)\n",
    "        state, reward, done, _ = env.step(action)\n",
    "        \n",
    "        actions.append(action)\n",
    "        rewards.append(reward)\n",
    "        trajectory.append(state)\n",
    "        \n",
    "    agent.update(trajectory, actions, rewards)\n",
    "    \n",
    "    wins.append(reward == 1.0)"
   ]
  },
  {
   "cell_type": "code",
   "execution_count": 79,
   "metadata": {},
   "outputs": [
    {
     "name": "stdout",
     "output_type": "stream",
     "text": [
      "0.39544\n"
     ]
    },
    {
     "data": {
      "image/png": "[encoded data removed]",
      "text/plain": [
       "<Figure size 432x288 with 1 Axes>"
      ]
     },
     "metadata": {
      "needs_background": "light"
     },
     "output_type": "display_data"
    }
   ],
   "source": [
    "import matplotlib.pyplot as plt\n",
    "\n",
    "plt.plot(np.cumsum(wins) / np.arange(1, len(wins) + 1, 1))\n",
    "print((np.cumsum(wins) / np.arange(1, len(wins) + 1, 1))[-1])"
   ]
  },
  {
   "cell_type": "code",
   "execution_count": 80,
   "metadata": {},
   "outputs": [
    {
     "name": "stdout",
     "output_type": "stream",
     "text": [
      "\n",
      "pbshpc: \n",
      "                                                            Req'd  Req'd   Elap\n",
      "Job ID          Username Queue    Jobname    SessID NDS TSK Memory Time  S Time\n",
      "--------------- -------- -------- ---------- ------ --- --- ------ ----- - -----\n",
      "2372357.pbshpc  cs51804* standard triangle_*  21195   1   1    --  05:00 R 03:07\n",
      "2372386.pbshpc  cs51804* low      triangle_*  22747   1   6    --  05:00 R 02:28\n",
      "2372479.pbshpc  cs51804* standard STDIN       29367   1   1    --  06:00 R 01:08\n"
     ]
    }
   ],
   "source": [
    "!qstat -u cs5180404"
   ]
  },
  {
   "cell_type": "code",
   "execution_count": null,
   "metadata": {},
   "outputs": [],
   "source": []
  }
 ],
 "metadata": {
  "kernelspec": {
   "display_name": "Python 3",
   "language": "python",
   "name": "python3"
  },
  "language_info": {
   "codemirror_mode": {
    "name": "ipython",
    "version": 3
   },
   "file_extension": ".py",
   "mimetype": "text/x-python",
   "name": "python",
   "nbconvert_exporter": "python",
   "pygments_lexer": "ipython3",
   "version": "3.6.10"
  }
 },
 "nbformat": 4,
 "nbformat_minor": 4
}
